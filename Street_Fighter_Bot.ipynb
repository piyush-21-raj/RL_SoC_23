{
 "cells": [
  {
   "cell_type": "markdown",
   "id": "ee87c3b8",
   "metadata": {},
   "source": [
    "# Code used for Training of the Agent"
   ]
  },
  {
   "cell_type": "markdown",
   "id": "22737061",
   "metadata": {},
   "source": [
    "## Importing the neccesary libraries"
   ]
  },
  {
   "cell_type": "code",
   "execution_count": 1,
   "id": "3e740ba0",
   "metadata": {},
   "outputs": [],
   "source": [
    "# Import retro to play Street Fighter using a ROM\n",
    "import retro\n",
    "# Import time to slow down game\n",
    "import time\n",
    "\n",
    "##Environment Pre-proccesing Libraries\n",
    "\n",
    "# Import environment base class for a wrapper \n",
    "from gym import Env \n",
    "# Import the space shapes for the environment (Multibinary gives us the action_space type and Box helps us return an array of any size)\n",
    "from gym.spaces import MultiBinary, Box\n",
    "# Import numpy to calculate frame delta \n",
    "import numpy as np\n",
    "# Import opencv for grayscaling\n",
    "import cv2\n",
    "# Import matplotlib for plotting the image\n",
    "from matplotlib import pyplot as plt\n",
    "\n",
    "##Hyperparameter Tuning\n",
    "\n",
    "# Importing optuna for HPO\n",
    "import optuna\n",
    "# Import PPO to implemnent PPO algo for RL\n",
    "from stable_baselines3 import PPO\n",
    "# Import evaluate_policy method for metric calculation\n",
    "from stable_baselines3.common.evaluation import evaluate_policy\n",
    "# Import the sb3 monitor for logging \n",
    "from stable_baselines3.common.monitor import Monitor\n",
    "# Import the vec wrappers to vectorize and frame stack\n",
    "from stable_baselines3.common.vec_env import DummyVecEnv, VecFrameStack\n",
    "# Import base callback to load models\n",
    "from stable_baselines3.common.callbacks import BaseCallback\n",
    "# Import os to deal with filepaths\n",
    "import os"
   ]
  },
  {
   "cell_type": "markdown",
   "id": "36db8a6a",
   "metadata": {},
   "source": [
    "### Global Variables"
   ]
  },
  {
   "cell_type": "code",
   "execution_count": null,
   "id": "1a38a064",
   "metadata": {},
   "outputs": [],
   "source": [
    "# File path to log out the model data\n",
    "LOG_DIR = './logs/'\n",
    "# File path to save the optimized parameter values\n",
    "OPT_DIR = './opt/'\n",
    "#File path to save checkpoints\n",
    "CHECKPOINT_DIR = './train/'"
   ]
  },
  {
   "cell_type": "markdown",
   "id": "f77678a1",
   "metadata": {},
   "source": [
    "### Making the game environment and Pre-process the environment inside of a custom environment wrapper"
   ]
  },
  {
   "cell_type": "code",
   "execution_count": null,
   "id": "c6947de2",
   "metadata": {},
   "outputs": [],
   "source": [
    "# Create custom environment which pre-processes the input frames\n",
    "class StreetFighter(Env): \n",
    "    def __init__(self):\n",
    "        super().__init__()\n",
    "        # Specify action space and observation space \n",
    "        self.observation_space = Box(low=0, high=255, shape=(84, 84, 1), dtype=np.uint8)\n",
    "        self.action_space = MultiBinary(12)\n",
    "        # Start the game \n",
    "        self.game = retro.make(game='StreetFighterIISpecialChampionEdition-Genesis', use_restricted_actions=retro.Actions.FILTERED)\n",
    "        #retro.Actions.FILTERED filters the action space to give the VALID BUTTON COMBINATIONS and removes the irrelevant actions\n",
    "    \n",
    "    def reset(self):\n",
    "        # Fetch the first frame \n",
    "        obs = self.game.reset()\n",
    "        # Preprocess the frame\n",
    "        obs = self.preprocess(obs) \n",
    "        self.previous_frame = obs \n",
    "        \n",
    "        # Create a variable to store the score delta \n",
    "        self.score = 0 \n",
    "        \n",
    "        # Return the preprocessed frame\n",
    "        return obs\n",
    "    \n",
    "    def preprocess(self, observation): \n",
    "        # Grayscaling (as only the positions are relevant)\n",
    "        gray = cv2.cvtColor(observation, cv2.COLOR_BGR2GRAY)\n",
    "        \n",
    "        # Resize (for faster training)\n",
    "        resize = cv2.resize(gray, (84,84), interpolation=cv2.INTER_CUBIC)\n",
    "        \n",
    "        # Add the channels value (change the frame size to be (84,84,1) from (84,84))\n",
    "        channels = np.reshape(resize, (84,84,1))\n",
    "        return channels \n",
    "    \n",
    "     def step(self, action): \n",
    "        # Take a step \n",
    "        obs, reward, done, info = self.game.step(action)\n",
    "        # obs contains the current frame data\n",
    "        obs = self.preprocess(obs) \n",
    "        \n",
    "        # Change in character position\n",
    "        frame_delta = obs - self.previous_frame\n",
    "        self.previous_frame = obs \n",
    "        \n",
    "        # Change the reward function to be the Score Delta\n",
    "        reward = (self.enemy_health - info['enemy_health'])*2 + (info['health'] - self.health) \n",
    "        self.score = info['score'] \n",
    "        \n",
    "        # Instead of the actual frame data, a pre-processed frame is returned along with the other attributes\n",
    "        return frame_delta, reward, done, info\n",
    "    \n",
    "    def render(self, *args, **kwargs):\n",
    "        # Render the game\n",
    "        self.game.render()\n",
    "        \n",
    "    def close(self):\n",
    "        # Close the game\n",
    "        self.game.close()"
   ]
  },
  {
   "cell_type": "markdown",
   "id": "23679cb2",
   "metadata": {},
   "source": [
    "### Hyperparameter Optimization/Tuning"
   ]
  },
  {
   "cell_type": "code",
   "execution_count": null,
   "id": "e6ebc2c3",
   "metadata": {},
   "outputs": [],
   "source": [
    "# Function to return test hyperparameters\n",
    "def optimize_ppo(trial): \n",
    "    return {\n",
    "        'n_steps':trial.suggest_int('n_steps', 2048, 8192),\n",
    "        'gamma':trial.suggest_loguniform('gamma', 0.8, 0.9999),\n",
    "        'learning_rate':trial.suggest_loguniform('learning_rate', 1e-5, 1e-4),\n",
    "        'clip_range':trial.suggest_uniform('clip_range', 0.1, 0.4),\n",
    "        'gae_lambda':trial.suggest_uniform('gae_lambda', 0.8, 0.99)\n",
    "    }"
   ]
  },
  {
   "cell_type": "code",
   "execution_count": null,
   "id": "b1e23039",
   "metadata": {},
   "outputs": [],
   "source": [
    "# Run a training loop and return mean reward\n",
    "# Try-except loop is present to avoid premature termination of training due to invalid parameter\n",
    "def optimize_agent(trial):\n",
    "    try:\n",
    "        # Store the suggested parameters\n",
    "        model_params = optimize_ppo(trial) \n",
    "\n",
    "        # Create environment \n",
    "        env = StreetFighter()\n",
    "        env = Monitor(env, LOG_DIR) # allows us to log mean episode reward and mean episode length from the vectorized environment\n",
    "        env = DummyVecEnv([lambda: env])\n",
    "        env = VecFrameStack(env, 4, channels_order='last')\n",
    "\n",
    "        # Create algorithm \n",
    "        model = PPO('CnnPolicy', env, tensorboard_log=LOG_DIR, verbose=0, **model_params)\n",
    "        model.learn(total_timesteps=100000)\n",
    "\n",
    "        # Evaluate model \n",
    "        mean_reward, _ = evaluate_policy(model, env, n_eval_episodes=5)\n",
    "        env.close()\n",
    "\n",
    "        SAVE_PATH = os.path.join(OPT_DIR, 'trial_{}_best_model'.format(trial.number))\n",
    "        model.save(SAVE_PATH)\n",
    "\n",
    "        return mean_reward\n",
    "\n",
    "    except Exception as e:\n",
    "        # A large negative value ensures that the case that causes the error is definetely not selected (as the reward is positive)\n",
    "        return -1000"
   ]
  },
  {
   "cell_type": "code",
   "execution_count": null,
   "id": "d717e9ab",
   "metadata": {},
   "outputs": [],
   "source": [
    "# Creating the experiment \n",
    "study = optuna.create_study(direction='maximize')\n",
    "\n",
    "# Optimizing over the given number of trails, with each trial going through total_timesteps timesteps to get the mean reward for that trial\n",
    "study.optimize(optimize_agent, n_trials=100, n_jobs=1)"
   ]
  },
  {
   "cell_type": "code",
   "execution_count": 2,
   "id": "5f32bbd3",
   "metadata": {
    "scrolled": true
   },
   "outputs": [
    {
     "ename": "NameError",
     "evalue": "name 'study' is not defined",
     "output_type": "error",
     "traceback": [
      "\u001b[1;31m---------------------------------------------------------------------------\u001b[0m",
      "\u001b[1;31mNameError\u001b[0m                                 Traceback (most recent call last)",
      "\u001b[1;32m<ipython-input-2-0a9eadbcd4a2>\u001b[0m in \u001b[0;36m<module>\u001b[1;34m\u001b[0m\n\u001b[0;32m      1\u001b[0m \u001b[1;31m# Gives the best set of parameters among all the trails done under the experiment study\u001b[0m\u001b[1;33m\u001b[0m\u001b[1;33m\u001b[0m\u001b[1;33m\u001b[0m\u001b[0m\n\u001b[1;32m----> 2\u001b[1;33m \u001b[0mstudy\u001b[0m\u001b[1;33m.\u001b[0m\u001b[0mbest_params\u001b[0m\u001b[1;33m\u001b[0m\u001b[1;33m\u001b[0m\u001b[0m\n\u001b[0m",
      "\u001b[1;31mNameError\u001b[0m: name 'study' is not defined"
     ]
    }
   ],
   "source": [
    "# Gives the best set of parameters among all the trails done under the experiment study\n",
    "study.best_params"
   ]
  },
  {
   "cell_type": "code",
   "execution_count": null,
   "id": "d38d79cc",
   "metadata": {},
   "outputs": [],
   "source": [
    "#Load the best set of parameters\n",
    "model = PPO.load(os.path.join(OPT_DIR, 'trial_24_best_model.zip'))"
   ]
  },
  {
   "cell_type": "markdown",
   "id": "d860fb28",
   "metadata": {},
   "source": [
    "### Callback Setup"
   ]
  },
  {
   "cell_type": "code",
   "execution_count": null,
   "id": "42358371",
   "metadata": {},
   "outputs": [],
   "source": [
    "class TrainAndLoggingCallback(BaseCallback):\n",
    "\n",
    "    def __init__(self, check_freq, save_path, verbose=1):\n",
    "        super(TrainAndLoggingCallback, self).__init__(verbose)\n",
    "        self.check_freq = check_freq\n",
    "        self.save_path = save_path\n",
    "\n",
    "    def _init_callback(self):\n",
    "        if self.save_path is not None:\n",
    "            os.makedirs(self.save_path, exist_ok=True)\n",
    "\n",
    "    def _on_step(self):\n",
    "        if self.n_calls % self.check_freq == 0:\n",
    "            model_path = os.path.join(self.save_path, 'best_model_{}'.format(self.n_calls))\n",
    "            self.model.save(model_path)\n",
    "\n",
    "        return True"
   ]
  },
  {
   "cell_type": "code",
   "execution_count": null,
   "id": "3eb5336b",
   "metadata": {},
   "outputs": [],
   "source": [
    "callback = TrainAndLoggingCallback(check_freq=10000, save_path=CHECKPOINT_DIR)"
   ]
  },
  {
   "cell_type": "markdown",
   "id": "1f97be8d",
   "metadata": {},
   "source": [
    "## Training"
   ]
  },
  {
   "cell_type": "code",
   "execution_count": null,
   "id": "d16f38ff",
   "metadata": {},
   "outputs": [],
   "source": [
    "# Create environment \n",
    "env = StreetFighter()\n",
    "env = Monitor(env, LOG_DIR)\n",
    "env = DummyVecEnv([lambda: env])\n",
    "env = VecFrameStack(env, 4, channels_order='last')"
   ]
  },
  {
   "cell_type": "code",
   "execution_count": null,
   "id": "a83761cb",
   "metadata": {},
   "outputs": [],
   "source": [
    "model_params = study.best_params\n",
    "model_params['n_steps'] = 7488  # set n_steps to 7488 or a factor of 64\n",
    "model_params['learning_rate'] = 5e-7 # set the learning rate to be a small value\n",
    "model_params"
   ]
  },
  {
   "cell_type": "code",
   "execution_count": null,
   "id": "54e3bb08",
   "metadata": {},
   "outputs": [],
   "source": [
    "model = PPO('CnnPolicy', env, tensorboard_log=LOG_DIR, verbose=1, **model_params)"
   ]
  },
  {
   "cell_type": "code",
   "execution_count": null,
   "id": "86cee94f",
   "metadata": {},
   "outputs": [],
   "source": [
    "# Reload previous weights\n",
    "model.load(os.path.join(OPT_DIR, 'trial_24_best_model.zip'))"
   ]
  },
  {
   "cell_type": "code",
   "execution_count": null,
   "id": "7d925190",
   "metadata": {},
   "outputs": [],
   "source": [
    "# Training the model \n",
    "model.learn(total_timestep=5000000, callback=callback) "
   ]
  },
  {
   "cell_type": "markdown",
   "id": "a9d0ac00",
   "metadata": {},
   "source": [
    "### Evaluate Model"
   ]
  },
  {
   "cell_type": "code",
   "execution_count": null,
   "id": "34760ec1",
   "metadata": {},
   "outputs": [],
   "source": [
    "model = PPO.load('./opt/trial_24_best_model.zip')"
   ]
  },
  {
   "cell_type": "code",
   "execution_count": null,
   "id": "ac0c5929",
   "metadata": {},
   "outputs": [],
   "source": [
    "mean_reward, _ = evaluate_policy(model, env, render=True, n_eval_episodes=1)"
   ]
  },
  {
   "cell_type": "code",
   "execution_count": null,
   "id": "3d35ed52",
   "metadata": {},
   "outputs": [],
   "source": [
    "mean_reward"
   ]
  },
  {
   "cell_type": "markdown",
   "id": "55e175ff",
   "metadata": {},
   "source": [
    "## Model Testing"
   ]
  },
  {
   "cell_type": "code",
   "execution_count": null,
   "id": "c0bbd4fc",
   "metadata": {},
   "outputs": [],
   "source": [
    "obs = env.reset()"
   ]
  },
  {
   "cell_type": "code",
   "execution_count": null,
   "id": "c54b4b39",
   "metadata": {},
   "outputs": [],
   "source": [
    "env.step(model.predict(obs)[0])"
   ]
  },
  {
   "cell_type": "code",
   "execution_count": null,
   "id": "841529f9",
   "metadata": {},
   "outputs": [],
   "source": [
    "# Reset game to starting state\n",
    "obs = env.reset()\n",
    "# Set flag to flase\n",
    "done = False\n",
    "for game in range(1): \n",
    "    while not done: \n",
    "        if done: \n",
    "            obs = env.reset()\n",
    "        env.render()\n",
    "        action = model.predict(obs)[0]\n",
    "        obs, reward, done, info = env.step(action)\n",
    "        time.sleep(0.01)\n",
    "        print(reward)"
   ]
  }
 ],
 "metadata": {
  "kernelspec": {
   "display_name": "Python 3",
   "language": "python",
   "name": "python3"
  },
  "language_info": {
   "codemirror_mode": {
    "name": "ipython",
    "version": 3
   },
   "file_extension": ".py",
   "mimetype": "text/x-python",
   "name": "python",
   "nbconvert_exporter": "python",
   "pygments_lexer": "ipython3",
   "version": "3.6.13"
  },
  "vscode": {
   "interpreter": {
    "hash": "9781c75f8ebb8db568c34abc6fa56aff5b950f24b8cfd6fe8af6829c67f4ac57"
   }
  }
 },
 "nbformat": 4,
 "nbformat_minor": 5
}
